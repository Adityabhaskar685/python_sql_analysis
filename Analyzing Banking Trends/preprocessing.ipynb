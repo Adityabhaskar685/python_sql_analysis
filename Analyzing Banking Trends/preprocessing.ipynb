{
 "cells": [
  {
   "cell_type": "markdown",
   "id": "797702c7-1ae9-4e63-a3e1-2aed7848c5e9",
   "metadata": {},
   "source": [
    "# Analyzing Banking Trends: Customer Transactions and Regional Impact\n",
    "In the ever-evolving world of banking and finance, understanding customer behavior and the regional impact of transactions plays a crucial role in decision-making and strategic planning. This project, titled \"Analyzing Banking Trends: Customer Transactions and Regional Impact,\" aims to explore and analyze the vast troves of transaction data to gain valuable insights into customer behavior patterns and their implications on different world regions.\n",
    "\n",
    "**Objective**: The primary objective of this project is to delve into customer transactions and identify trends that may impact regional economies and financial systems. By combining data cleaning techniques in Python and utilizing SQL queries on a set of interconnected tables, we aim to gain a comprehensive understanding of how customer transactions vary across different regions and the possible implications on the banking sector.\n",
    "\n",
    "**Data Sources**: The project leverages three key tables that provide valuable information for analysis:\n",
    "\n",
    "1. **world_regions table**: This table contains data on various world regions and their corresponding codes and names. It serves as a reference to categorize customers based on their regional affiliation.\n",
    "\n",
    "2. **user_nodes table**: The user_nodes table holds crucial details about consumers' banking nodes, including their unique consumer IDs, associated region IDs, node IDs, start dates, and end dates. This data enables us to identify the specific banking nodes to which customers are connected and their duration of association.\n",
    "\n",
    "3. **user_transaction table** : This table is a comprehensive repository of customer transactions, containing data such as consumer IDs, transaction dates, types of transactions, and transaction amounts. Analyzing this data allows us to uncover patterns in customer spending and financial behaviors."
   ]
  },
  {
   "cell_type": "code",
   "execution_count": 1,
   "id": "3bc743e7-46ef-4eda-a53a-be79ed54dda1",
   "metadata": {},
   "outputs": [],
   "source": [
    "## Imports\n",
    "import pandas as pd\n",
    "import numpy as np\n",
    "import seaborn as sns\n",
    "import matplotlib.pyplot as plt\n",
    "import warnings\n",
    "\n",
    "warnings.filterwarnings(\"ignore\")\n",
    "%matplotlib inline\n",
    "%load_ext lab_black"
   ]
  },
  {
   "cell_type": "markdown",
   "id": "f462c633-dd03-4686-93a6-b29eb97ba1fb",
   "metadata": {},
   "source": [
    "## 1 Load the Dataset"
   ]
  },
  {
   "cell_type": "markdown",
   "id": "113d7678-9efd-414a-b203-a0e6c23e9146",
   "metadata": {},
   "source": [
    "### Working with user_nodes dataset."
   ]
  },
  {
   "cell_type": "code",
   "execution_count": 2,
   "id": "8ce1818d-f8ec-40c6-bace-8b4d8153bdf9",
   "metadata": {},
   "outputs": [
    {
     "data": {
      "text/html": [
       "<div>\n",
       "<style scoped>\n",
       "    .dataframe tbody tr th:only-of-type {\n",
       "        vertical-align: middle;\n",
       "    }\n",
       "\n",
       "    .dataframe tbody tr th {\n",
       "        vertical-align: top;\n",
       "    }\n",
       "\n",
       "    .dataframe thead th {\n",
       "        text-align: right;\n",
       "    }\n",
       "</style>\n",
       "<table border=\"1\" class=\"dataframe\">\n",
       "  <thead>\n",
       "    <tr style=\"text-align: right;\">\n",
       "      <th></th>\n",
       "      <th>id_</th>\n",
       "      <th>area_id_</th>\n",
       "      <th>node_id_</th>\n",
       "      <th>act_date</th>\n",
       "      <th>deact_date</th>\n",
       "      <th>has_loan</th>\n",
       "      <th>is_act</th>\n",
       "    </tr>\n",
       "  </thead>\n",
       "  <tbody>\n",
       "    <tr>\n",
       "      <th>0</th>\n",
       "      <td>1</td>\n",
       "      <td>3</td>\n",
       "      <td>4</td>\n",
       "      <td>02-01-2020</td>\n",
       "      <td>03-01-2020</td>\n",
       "      <td>1</td>\n",
       "      <td>0</td>\n",
       "    </tr>\n",
       "    <tr>\n",
       "      <th>1</th>\n",
       "      <td>2</td>\n",
       "      <td>3</td>\n",
       "      <td>5</td>\n",
       "      <td>03-01-2020</td>\n",
       "      <td>17-01-2020</td>\n",
       "      <td>0</td>\n",
       "      <td>1</td>\n",
       "    </tr>\n",
       "    <tr>\n",
       "      <th>2</th>\n",
       "      <td>3</td>\n",
       "      <td>5</td>\n",
       "      <td>4</td>\n",
       "      <td>27-01-2020</td>\n",
       "      <td>18-02-2020</td>\n",
       "      <td>0</td>\n",
       "      <td>0</td>\n",
       "    </tr>\n",
       "    <tr>\n",
       "      <th>3</th>\n",
       "      <td>4</td>\n",
       "      <td>5</td>\n",
       "      <td>4</td>\n",
       "      <td>07-01-2020</td>\n",
       "      <td>19-01-2020</td>\n",
       "      <td>1</td>\n",
       "      <td>1</td>\n",
       "    </tr>\n",
       "    <tr>\n",
       "      <th>4</th>\n",
       "      <td>5</td>\n",
       "      <td>3</td>\n",
       "      <td>3</td>\n",
       "      <td>15-01-2020</td>\n",
       "      <td>23-01-2020</td>\n",
       "      <td>0</td>\n",
       "      <td>1</td>\n",
       "    </tr>\n",
       "  </tbody>\n",
       "</table>\n",
       "</div>"
      ],
      "text/plain": [
       "   id_  area_id_  node_id_    act_date  deact_date  has_loan  is_act\n",
       "0    1         3         4  02-01-2020  03-01-2020         1       0\n",
       "1    2         3         5  03-01-2020  17-01-2020         0       1\n",
       "2    3         5         4  27-01-2020  18-02-2020         0       0\n",
       "3    4         5         4  07-01-2020  19-01-2020         1       1\n",
       "4    5         3         3  15-01-2020  23-01-2020         0       1"
      ]
     },
     "execution_count": 2,
     "metadata": {},
     "output_type": "execute_result"
    }
   ],
   "source": [
    "user_nodes = pd.read_csv(\"user_nodes.csv\")\n",
    "user_nodes.head()"
   ]
  },
  {
   "cell_type": "code",
   "execution_count": 3,
   "id": "f5ec0100-18cf-4537-818c-ce457cbe6794",
   "metadata": {},
   "outputs": [
    {
     "name": "stdout",
     "output_type": "stream",
     "text": [
      "<class 'pandas.core.frame.DataFrame'>\n",
      "RangeIndex: 3643 entries, 0 to 3642\n",
      "Data columns (total 7 columns):\n",
      " #   Column      Non-Null Count  Dtype \n",
      "---  ------      --------------  ----- \n",
      " 0   id_         3643 non-null   int64 \n",
      " 1   area_id_    3643 non-null   int64 \n",
      " 2   node_id_    3643 non-null   int64 \n",
      " 3   act_date    3643 non-null   object\n",
      " 4   deact_date  3643 non-null   object\n",
      " 5   has_loan    3643 non-null   int64 \n",
      " 6   is_act      3643 non-null   int64 \n",
      "dtypes: int64(5), object(2)\n",
      "memory usage: 199.4+ KB\n"
     ]
    }
   ],
   "source": [
    "# summary\n",
    "user_nodes.info()"
   ]
  },
  {
   "cell_type": "code",
   "execution_count": 4,
   "id": "90e8e0fe-945b-4f25-a94d-39eeedb5ebd7",
   "metadata": {},
   "outputs": [
    {
     "data": {
      "text/plain": [
       "(3643, 7)"
      ]
     },
     "execution_count": 4,
     "metadata": {},
     "output_type": "execute_result"
    }
   ],
   "source": [
    "# shape\n",
    "user_nodes.shape"
   ]
  },
  {
   "cell_type": "code",
   "execution_count": 5,
   "id": "2422f799-c2e8-4d92-930a-2f266db2a802",
   "metadata": {},
   "outputs": [
    {
     "data": {
      "text/plain": [
       "id_           0\n",
       "area_id_      0\n",
       "node_id_      0\n",
       "act_date      0\n",
       "deact_date    0\n",
       "has_loan      0\n",
       "is_act        0\n",
       "dtype: int64"
      ]
     },
     "execution_count": 5,
     "metadata": {},
     "output_type": "execute_result"
    }
   ],
   "source": [
    "# check null values\n",
    "user_nodes.isna().sum()"
   ]
  },
  {
   "cell_type": "code",
   "execution_count": 10,
   "id": "ba5039b2-b5c3-4c48-b610-68f6bf459e5d",
   "metadata": {},
   "outputs": [
    {
     "data": {
      "text/plain": [
       "143"
      ]
     },
     "execution_count": 10,
     "metadata": {},
     "output_type": "execute_result"
    }
   ],
   "source": [
    "# number of duplicate values in user_nodes\n",
    "user_nodes.duplicated().sum()"
   ]
  },
  {
   "cell_type": "code",
   "execution_count": 11,
   "id": "5b60b193-759c-4a00-899f-9161a9b3cbe1",
   "metadata": {},
   "outputs": [],
   "source": [
    "# droping the duplicates values\n",
    "user_nodes = user_nodes.drop_duplicates()"
   ]
  },
  {
   "cell_type": "code",
   "execution_count": 14,
   "id": "9e55e8be-4d9c-460e-ad3b-ef7b0f2600a6",
   "metadata": {},
   "outputs": [],
   "source": [
    "# droping the 'has_load' and 'is_act'\n",
    "user_nodes = user_nodes.drop(columns=[\"has_loan\", \"is_act\"])"
   ]
  },
  {
   "cell_type": "code",
   "execution_count": 19,
   "id": "7550e306-fddb-41a1-8ff8-4bc89ae6eb98",
   "metadata": {},
   "outputs": [],
   "source": [
    "# renaming the columns for better readiability\n",
    "\n",
    "user_nodes = user_nodes.rename(\n",
    "    columns={\n",
    "        \"id_\": \"consumer_id\",\n",
    "        \"area_id_\": \"region_id\",\n",
    "        \"node_id_\": \"node_id\",\n",
    "        \"act_date\": \"start_date\",\n",
    "        \"deact_date\": \"end_date\",\n",
    "    }\n",
    ")"
   ]
  },
  {
   "cell_type": "code",
   "execution_count": 35,
   "id": "ab7af80a-281d-4540-bee9-dbf17c3659ab",
   "metadata": {},
   "outputs": [],
   "source": [
    "user_nodes.to_csv(\"user_nodes_cleaned.csv\", index=False)"
   ]
  },
  {
   "cell_type": "markdown",
   "id": "5fb416af-aef5-4f1f-9d83-47df01b6b485",
   "metadata": {},
   "source": [
    "### working with user_transactions data\n"
   ]
  },
  {
   "cell_type": "code",
   "execution_count": 21,
   "id": "89557577-0381-45e9-906a-5f4fe768534e",
   "metadata": {},
   "outputs": [
    {
     "data": {
      "text/html": [
       "<div>\n",
       "<style scoped>\n",
       "    .dataframe tbody tr th:only-of-type {\n",
       "        vertical-align: middle;\n",
       "    }\n",
       "\n",
       "    .dataframe tbody tr th {\n",
       "        vertical-align: top;\n",
       "    }\n",
       "\n",
       "    .dataframe thead th {\n",
       "        text-align: right;\n",
       "    }\n",
       "</style>\n",
       "<table border=\"1\" class=\"dataframe\">\n",
       "  <thead>\n",
       "    <tr style=\"text-align: right;\">\n",
       "      <th></th>\n",
       "      <th>id_</th>\n",
       "      <th>t_date</th>\n",
       "      <th>t_type</th>\n",
       "      <th>t_amt</th>\n",
       "      <th>has_credit_card</th>\n",
       "      <th>account_type</th>\n",
       "    </tr>\n",
       "  </thead>\n",
       "  <tbody>\n",
       "    <tr>\n",
       "      <th>0</th>\n",
       "      <td>312</td>\n",
       "      <td>20-01-2020</td>\n",
       "      <td>deposit</td>\n",
       "      <td>485</td>\n",
       "      <td>Yes</td>\n",
       "      <td>Savings</td>\n",
       "    </tr>\n",
       "    <tr>\n",
       "      <th>1</th>\n",
       "      <td>376</td>\n",
       "      <td>03-01-2020</td>\n",
       "      <td>deposit</td>\n",
       "      <td>706</td>\n",
       "      <td>No</td>\n",
       "      <td>Current</td>\n",
       "    </tr>\n",
       "    <tr>\n",
       "      <th>2</th>\n",
       "      <td>188</td>\n",
       "      <td>13-01-2020</td>\n",
       "      <td>deposit</td>\n",
       "      <td>601</td>\n",
       "      <td>No</td>\n",
       "      <td>Savings</td>\n",
       "    </tr>\n",
       "    <tr>\n",
       "      <th>3</th>\n",
       "      <td>138</td>\n",
       "      <td>11-01-2020</td>\n",
       "      <td>deposit</td>\n",
       "      <td>520</td>\n",
       "      <td>No</td>\n",
       "      <td>Salary</td>\n",
       "    </tr>\n",
       "    <tr>\n",
       "      <th>4</th>\n",
       "      <td>373</td>\n",
       "      <td>18-01-2020</td>\n",
       "      <td>deposit</td>\n",
       "      <td>596</td>\n",
       "      <td>No</td>\n",
       "      <td>Salary</td>\n",
       "    </tr>\n",
       "  </tbody>\n",
       "</table>\n",
       "</div>"
      ],
      "text/plain": [
       "   id_      t_date   t_type  t_amt has_credit_card account_type\n",
       "0  312  20-01-2020  deposit    485             Yes      Savings\n",
       "1  376  03-01-2020  deposit    706              No      Current\n",
       "2  188  13-01-2020  deposit    601              No      Savings\n",
       "3  138  11-01-2020  deposit    520              No       Salary\n",
       "4  373  18-01-2020  deposit    596              No       Salary"
      ]
     },
     "execution_count": 21,
     "metadata": {},
     "output_type": "execute_result"
    }
   ],
   "source": [
    "user_transactions = pd.read_csv(\"user_transactions.csv\")\n",
    "user_transactions.head()"
   ]
  },
  {
   "cell_type": "code",
   "execution_count": 23,
   "id": "166b2ad7-16a9-4286-a6f4-cf9cdd2730e2",
   "metadata": {},
   "outputs": [
    {
     "name": "stdout",
     "output_type": "stream",
     "text": [
      "<class 'pandas.core.frame.DataFrame'>\n",
      "RangeIndex: 5947 entries, 0 to 5946\n",
      "Data columns (total 6 columns):\n",
      " #   Column           Non-Null Count  Dtype \n",
      "---  ------           --------------  ----- \n",
      " 0   id_              5947 non-null   int64 \n",
      " 1   t_date           5947 non-null   object\n",
      " 2   t_type           5947 non-null   object\n",
      " 3   t_amt            5947 non-null   int64 \n",
      " 4   has_credit_card  5947 non-null   object\n",
      " 5   account_type     5947 non-null   object\n",
      "dtypes: int64(2), object(4)\n",
      "memory usage: 278.9+ KB\n"
     ]
    }
   ],
   "source": [
    "# summary\n",
    "user_transactions.info()"
   ]
  },
  {
   "cell_type": "code",
   "execution_count": 24,
   "id": "1e64232a-915d-4e1b-b737-633d8deb2cae",
   "metadata": {},
   "outputs": [
    {
     "data": {
      "text/plain": [
       "(5947, 6)"
      ]
     },
     "execution_count": 24,
     "metadata": {},
     "output_type": "execute_result"
    }
   ],
   "source": [
    "# shape\n",
    "user_transactions.shape"
   ]
  },
  {
   "cell_type": "code",
   "execution_count": 25,
   "id": "547e2f77-c31e-4b85-8514-c01521b3386a",
   "metadata": {},
   "outputs": [
    {
     "data": {
      "text/plain": [
       "id_                0\n",
       "t_date             0\n",
       "t_type             0\n",
       "t_amt              0\n",
       "has_credit_card    0\n",
       "account_type       0\n",
       "dtype: int64"
      ]
     },
     "execution_count": 25,
     "metadata": {},
     "output_type": "execute_result"
    }
   ],
   "source": [
    "# null values\n",
    "user_transactions.isna().sum()"
   ]
  },
  {
   "cell_type": "code",
   "execution_count": 28,
   "id": "3cc79cbf-3565-4ede-b0c7-f378cfa862f7",
   "metadata": {},
   "outputs": [
    {
     "data": {
      "text/plain": [
       "79"
      ]
     },
     "execution_count": 28,
     "metadata": {},
     "output_type": "execute_result"
    }
   ],
   "source": [
    "# duplicate value\n",
    "user_transactions.duplicated().sum()"
   ]
  },
  {
   "cell_type": "code",
   "execution_count": 29,
   "id": "a371e9f4-86db-4ab6-999b-8c8e8549e9d7",
   "metadata": {},
   "outputs": [],
   "source": [
    "# droping the duplicate values\n",
    "user_transactions = user_transactions.drop_duplicates()"
   ]
  },
  {
   "cell_type": "code",
   "execution_count": 31,
   "id": "20dc23d5-f387-4679-9610-7f9c22e4a4bd",
   "metadata": {},
   "outputs": [],
   "source": [
    "# droping the columns 'has_credit_card' and 'account_type'\n",
    "user_transactions = user_transactions.drop(columns=[\"has_credit_card\", \"account_type\"])"
   ]
  },
  {
   "cell_type": "code",
   "execution_count": 33,
   "id": "1710550e-a10a-4fd6-b575-46e079c00382",
   "metadata": {},
   "outputs": [],
   "source": [
    "# rename the columns\n",
    "user_transactions = user_transactions.rename(\n",
    "    columns={\n",
    "        \"id_\": \"consumer_id\",\n",
    "        \"t_date\": \"transaction_date\",\n",
    "        \"t_type\": \"transaction_type\",\n",
    "        \"t_amt\": \"transaction_amount\",\n",
    "    }\n",
    ")"
   ]
  },
  {
   "cell_type": "code",
   "execution_count": 34,
   "id": "958b7d26-ad73-4355-b77a-ec96af00109c",
   "metadata": {},
   "outputs": [],
   "source": [
    "user_transactions.to_csv(\"user_transactions_cleaned.csv\", index=False)"
   ]
  },
  {
   "cell_type": "code",
   "execution_count": null,
   "id": "bd9d53fe-b50b-4ade-a724-8a91903fee42",
   "metadata": {},
   "outputs": [],
   "source": [
    "Host: localhost | Database: b5ef35c5\n",
    "\n",
    "Username: b5ef35c5 | Password: Cab#22se"
   ]
  }
 ],
 "metadata": {
  "kernelspec": {
   "display_name": "Python 3 (ipykernel)",
   "language": "python",
   "name": "python3"
  },
  "language_info": {
   "codemirror_mode": {
    "name": "ipython",
    "version": 3
   },
   "file_extension": ".py",
   "mimetype": "text/x-python",
   "name": "python",
   "nbconvert_exporter": "python",
   "pygments_lexer": "ipython3",
   "version": "3.11.0"
  }
 },
 "nbformat": 4,
 "nbformat_minor": 5
}
