{
 "cells": [
  {
   "cell_type": "markdown",
   "id": "54196168-070a-413e-b48a-9451a615ae83",
   "metadata": {},
   "source": [
    "# Preprocessing of Transaction Data "
   ]
  },
  {
   "cell_type": "markdown",
   "id": "d826e679-e578-4c4d-adcd-3f6ef28711d9",
   "metadata": {},
   "source": [
    "## Module 1\n",
    "### Task 1: Polishing the Dataset for Insights\n",
    "In the realm of e-commerce, data analyst Alex undertook the critical mission of transforming the \"transaction_dataset.csv\" into a strategic asset. He meticulously cleaned the data to ensure precision, eliminating extraneous columns such as \"product_class\" and \"product_size.\" Furthermore, he revamped column names to enhance clarity.\n",
    "\n",
    "The objective of this task was both simple and pivotal: to equip the organization with top-tier data for facilitating informed decision-making. It aimed to create a well-defined pathway towards data-driven insights that would steer the e-commerce platform toward resounding success."
   ]
  },
  {
   "cell_type": "code",
   "execution_count": 1,
   "id": "10c91f4c-a933-4163-9d64-e09aea4f0e57",
   "metadata": {},
   "outputs": [],
   "source": [
    "# imports\n",
    "import pandas as pd\n",
    "import numpy as np\n",
    "import matplotlib.pyplot as plt\n",
    "import seaborn as sns\n",
    "\n",
    "%load_ext lab_black"
   ]
  },
  {
   "cell_type": "code",
   "execution_count": 17,
   "id": "b1c18e70-99f7-4d07-b53b-9716a0d2e6ec",
   "metadata": {},
   "outputs": [
    {
     "data": {
      "text/html": [
       "<div>\n",
       "<style scoped>\n",
       "    .dataframe tbody tr th:only-of-type {\n",
       "        vertical-align: middle;\n",
       "    }\n",
       "\n",
       "    .dataframe tbody tr th {\n",
       "        vertical-align: top;\n",
       "    }\n",
       "\n",
       "    .dataframe thead th {\n",
       "        text-align: right;\n",
       "    }\n",
       "</style>\n",
       "<table border=\"1\" class=\"dataframe\">\n",
       "  <thead>\n",
       "    <tr style=\"text-align: right;\">\n",
       "      <th></th>\n",
       "      <th>tr_id</th>\n",
       "      <th>p_id</th>\n",
       "      <th>c_id</th>\n",
       "      <th>tr_date</th>\n",
       "      <th>online_order</th>\n",
       "      <th>order_status</th>\n",
       "      <th>brand</th>\n",
       "      <th>product_line</th>\n",
       "      <th>product_class</th>\n",
       "      <th>product_size</th>\n",
       "      <th>list_price</th>\n",
       "      <th>standard_cost</th>\n",
       "      <th>product_first_sold_date</th>\n",
       "    </tr>\n",
       "  </thead>\n",
       "  <tbody>\n",
       "    <tr>\n",
       "      <th>0</th>\n",
       "      <td>1</td>\n",
       "      <td>2</td>\n",
       "      <td>2950</td>\n",
       "      <td>25-02-2017 00:00</td>\n",
       "      <td>False</td>\n",
       "      <td>Approved</td>\n",
       "      <td>Solex</td>\n",
       "      <td>Standard</td>\n",
       "      <td>medium</td>\n",
       "      <td>medium</td>\n",
       "      <td>71.49</td>\n",
       "      <td>53.62</td>\n",
       "      <td>41245.0</td>\n",
       "    </tr>\n",
       "    <tr>\n",
       "      <th>1</th>\n",
       "      <td>2</td>\n",
       "      <td>3</td>\n",
       "      <td>3120</td>\n",
       "      <td>21-05-2017 00:00</td>\n",
       "      <td>True</td>\n",
       "      <td>Approved</td>\n",
       "      <td>Trek Bicycles</td>\n",
       "      <td>Standard</td>\n",
       "      <td>medium</td>\n",
       "      <td>large</td>\n",
       "      <td>2091.47</td>\n",
       "      <td>388.92</td>\n",
       "      <td>41701.0</td>\n",
       "    </tr>\n",
       "    <tr>\n",
       "      <th>2</th>\n",
       "      <td>3</td>\n",
       "      <td>37</td>\n",
       "      <td>402</td>\n",
       "      <td>16-10-2017 00:00</td>\n",
       "      <td>False</td>\n",
       "      <td>Approved</td>\n",
       "      <td>OHM Cycles</td>\n",
       "      <td>Standard</td>\n",
       "      <td>low</td>\n",
       "      <td>medium</td>\n",
       "      <td>1793.43</td>\n",
       "      <td>248.82</td>\n",
       "      <td>36361.0</td>\n",
       "    </tr>\n",
       "    <tr>\n",
       "      <th>3</th>\n",
       "      <td>4</td>\n",
       "      <td>88</td>\n",
       "      <td>3135</td>\n",
       "      <td>31-08-2017 00:00</td>\n",
       "      <td>False</td>\n",
       "      <td>Approved</td>\n",
       "      <td>Norco Bicycles</td>\n",
       "      <td>Standard</td>\n",
       "      <td>medium</td>\n",
       "      <td>medium</td>\n",
       "      <td>1198.46</td>\n",
       "      <td>381.10</td>\n",
       "      <td>36145.0</td>\n",
       "    </tr>\n",
       "    <tr>\n",
       "      <th>4</th>\n",
       "      <td>5</td>\n",
       "      <td>78</td>\n",
       "      <td>787</td>\n",
       "      <td>01-10-2017 00:00</td>\n",
       "      <td>True</td>\n",
       "      <td>Approved</td>\n",
       "      <td>Giant Bicycles</td>\n",
       "      <td>Standard</td>\n",
       "      <td>medium</td>\n",
       "      <td>large</td>\n",
       "      <td>1765.30</td>\n",
       "      <td>709.48</td>\n",
       "      <td>42226.0</td>\n",
       "    </tr>\n",
       "  </tbody>\n",
       "</table>\n",
       "</div>"
      ],
      "text/plain": [
       "   tr_id  p_id  c_id           tr_date  online_order order_status  \\\n",
       "0      1     2  2950  25-02-2017 00:00         False     Approved   \n",
       "1      2     3  3120  21-05-2017 00:00          True     Approved   \n",
       "2      3    37   402  16-10-2017 00:00         False     Approved   \n",
       "3      4    88  3135  31-08-2017 00:00         False     Approved   \n",
       "4      5    78   787  01-10-2017 00:00          True     Approved   \n",
       "\n",
       "            brand product_line product_class product_size  list_price  \\\n",
       "0           Solex     Standard        medium       medium       71.49   \n",
       "1   Trek Bicycles     Standard        medium        large     2091.47   \n",
       "2      OHM Cycles     Standard           low       medium     1793.43   \n",
       "3  Norco Bicycles     Standard        medium       medium     1198.46   \n",
       "4  Giant Bicycles     Standard        medium        large     1765.30   \n",
       "\n",
       "   standard_cost  product_first_sold_date  \n",
       "0          53.62                  41245.0  \n",
       "1         388.92                  41701.0  \n",
       "2         248.82                  36361.0  \n",
       "3         381.10                  36145.0  \n",
       "4         709.48                  42226.0  "
      ]
     },
     "execution_count": 17,
     "metadata": {},
     "output_type": "execute_result"
    }
   ],
   "source": [
    "# laod the dataset\n",
    "data = pd.read_csv(\"transaction_dataset.csv\")\n",
    "data.head()"
   ]
  },
  {
   "cell_type": "code",
   "execution_count": 18,
   "id": "da76449b-2068-4c99-b21e-72692818ecc4",
   "metadata": {},
   "outputs": [
    {
     "name": "stdout",
     "output_type": "stream",
     "text": [
      "<class 'pandas.core.frame.DataFrame'>\n",
      "RangeIndex: 20000 entries, 0 to 19999\n",
      "Data columns (total 13 columns):\n",
      " #   Column                   Non-Null Count  Dtype  \n",
      "---  ------                   --------------  -----  \n",
      " 0   tr_id                    20000 non-null  int64  \n",
      " 1   p_id                     20000 non-null  int64  \n",
      " 2   c_id                     20000 non-null  int64  \n",
      " 3   tr_date                  20000 non-null  object \n",
      " 4   online_order             20000 non-null  bool   \n",
      " 5   order_status             20000 non-null  object \n",
      " 6   brand                    20000 non-null  object \n",
      " 7   product_line             20000 non-null  object \n",
      " 8   product_class            19803 non-null  object \n",
      " 9   product_size             19803 non-null  object \n",
      " 10  list_price               20000 non-null  float64\n",
      " 11  standard_cost            20000 non-null  float64\n",
      " 12  product_first_sold_date  20000 non-null  float64\n",
      "dtypes: bool(1), float64(3), int64(3), object(6)\n",
      "memory usage: 1.9+ MB\n"
     ]
    }
   ],
   "source": [
    "# summary\n",
    "data.info()"
   ]
  },
  {
   "cell_type": "code",
   "execution_count": 19,
   "id": "be623d17-e7c7-4311-be22-7252e061c84c",
   "metadata": {},
   "outputs": [
    {
     "data": {
      "text/plain": [
       "tr_id                        0\n",
       "p_id                         0\n",
       "c_id                         0\n",
       "tr_date                      0\n",
       "online_order                 0\n",
       "order_status                 0\n",
       "brand                        0\n",
       "product_line                 0\n",
       "product_class              197\n",
       "product_size               197\n",
       "list_price                   0\n",
       "standard_cost                0\n",
       "product_first_sold_date      0\n",
       "dtype: int64"
      ]
     },
     "execution_count": 19,
     "metadata": {},
     "output_type": "execute_result"
    }
   ],
   "source": [
    "# null values\n",
    "data.isna().sum()"
   ]
  },
  {
   "cell_type": "code",
   "execution_count": 20,
   "id": "8b9a593f-64dd-480e-ac5f-111da0a7c458",
   "metadata": {},
   "outputs": [],
   "source": [
    "# removing the columns 'product class' and 'product size' as these columns are required\n",
    "data = data.drop(columns=[\"product_class\", \"product_size\"])"
   ]
  },
  {
   "cell_type": "code",
   "execution_count": 21,
   "id": "6e3f9cdc-8e6b-4d03-9ba9-548319ccc2d1",
   "metadata": {},
   "outputs": [
    {
     "data": {
      "text/plain": [
       "Index(['tr_id', 'p_id', 'c_id', 'tr_date', 'online_order', 'order_status',\n",
       "       'brand', 'product_line', 'list_price', 'standard_cost',\n",
       "       'product_first_sold_date'],\n",
       "      dtype='object')"
      ]
     },
     "execution_count": 21,
     "metadata": {},
     "output_type": "execute_result"
    }
   ],
   "source": [
    "data.columns"
   ]
  },
  {
   "cell_type": "code",
   "execution_count": 23,
   "id": "cdfb3278-a4b3-4da1-bf1f-1db50e89af1f",
   "metadata": {},
   "outputs": [],
   "source": [
    "# Rename the columns in 'df' to 'transaction_id', 'product_id', 'customer_id', and 'transaction_date' for improved readability.\n",
    "\n",
    "data = data.rename(\n",
    "    columns={\n",
    "        \"tr_id\": \"transaction_id\",\n",
    "        \"p_id\": \"product_id\",\n",
    "        \"c_id\": \"customer_id\",\n",
    "        \"tr_date\": \"transaction_date\",\n",
    "    }\n",
    ")"
   ]
  },
  {
   "cell_type": "code",
   "execution_count": 27,
   "id": "d3f37f1b-fd83-4578-bb75-d69a470b3a1a",
   "metadata": {},
   "outputs": [],
   "source": [
    "data.to_csv(\"cleaned_dataset.csv\", index=False)"
   ]
  },
  {
   "cell_type": "code",
   "execution_count": null,
   "id": "e09df2c1-2a27-460e-9fd4-65c479c5128e",
   "metadata": {},
   "outputs": [],
   "source": []
  }
 ],
 "metadata": {
  "kernelspec": {
   "display_name": "Python 3 (ipykernel)",
   "language": "python",
   "name": "python3"
  },
  "language_info": {
   "codemirror_mode": {
    "name": "ipython",
    "version": 3
   },
   "file_extension": ".py",
   "mimetype": "text/x-python",
   "name": "python",
   "nbconvert_exporter": "python",
   "pygments_lexer": "ipython3",
   "version": "3.8.16"
  }
 },
 "nbformat": 4,
 "nbformat_minor": 5
}
