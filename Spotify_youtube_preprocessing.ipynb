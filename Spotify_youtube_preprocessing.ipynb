{
 "cells": [
  {
   "cell_type": "markdown",
   "id": "91b3dad8-c8a2-476f-85b8-92af8564cb16",
   "metadata": {},
   "source": [
    "# Spotify  Youtube Data Cleaning\n",
    "\n"
   ]
  },
  {
   "cell_type": "code",
   "execution_count": 197,
   "id": "58366113-8a9e-479a-8e50-850ea9a6e0d0",
   "metadata": {
    "tags": []
   },
   "outputs": [
    {
     "name": "stdout",
     "output_type": "stream",
     "text": [
      "The lab_black extension is already loaded. To reload it, use:\n",
      "  %reload_ext lab_black\n"
     ]
    }
   ],
   "source": [
    "# standard libraries\n",
    "import pandas as pd\n",
    "import numpy as np\n",
    "import matplotlib.pyplot as plt\n",
    "import seaborn as sns\n",
    "\n",
    "%matplotlib inline\n",
    "\n",
    "%load_ext lab_black"
   ]
  },
  {
   "cell_type": "code",
   "execution_count": 198,
   "id": "4c3cbc76-2938-456d-a7cb-c6419afa9974",
   "metadata": {
    "tags": []
   },
   "outputs": [
    {
     "name": "stdout",
     "output_type": "stream",
     "text": [
      "Spotify_Youtuben.csv\n",
      "Spotify_youtube_preprocessing.ipynb\n",
      "cleaned_dataset.csv\n"
     ]
    }
   ],
   "source": [
    "!ls"
   ]
  },
  {
   "cell_type": "code",
   "execution_count": 199,
   "id": "f05a61d4-b7d5-49b2-a914-35fa214d79da",
   "metadata": {
    "tags": []
   },
   "outputs": [
    {
     "data": {
      "text/html": [
       "<div>\n",
       "<style scoped>\n",
       "    .dataframe tbody tr th:only-of-type {\n",
       "        vertical-align: middle;\n",
       "    }\n",
       "\n",
       "    .dataframe tbody tr th {\n",
       "        vertical-align: top;\n",
       "    }\n",
       "\n",
       "    .dataframe thead th {\n",
       "        text-align: right;\n",
       "    }\n",
       "</style>\n",
       "<table border=\"1\" class=\"dataframe\">\n",
       "  <thead>\n",
       "    <tr style=\"text-align: right;\">\n",
       "      <th></th>\n",
       "      <th>Artist</th>\n",
       "      <th>Url_spotify</th>\n",
       "      <th>Track</th>\n",
       "      <th>Album</th>\n",
       "      <th>Album_type</th>\n",
       "      <th>Uri</th>\n",
       "      <th>Danceability</th>\n",
       "      <th>Energy</th>\n",
       "      <th>Key</th>\n",
       "      <th>Loudness</th>\n",
       "      <th>...</th>\n",
       "      <th>Url_youtube</th>\n",
       "      <th>Title</th>\n",
       "      <th>Channel</th>\n",
       "      <th>Views</th>\n",
       "      <th>Likes</th>\n",
       "      <th>Comments</th>\n",
       "      <th>Description</th>\n",
       "      <th>Licensed</th>\n",
       "      <th>official_video</th>\n",
       "      <th>Stream</th>\n",
       "    </tr>\n",
       "  </thead>\n",
       "  <tbody>\n",
       "    <tr>\n",
       "      <th>0</th>\n",
       "      <td>Gorillaz</td>\n",
       "      <td>https://open.spotify.com/artist/3AA28KZvwAUcZu...</td>\n",
       "      <td>Feel Good Inc.</td>\n",
       "      <td>Demon Days</td>\n",
       "      <td>album</td>\n",
       "      <td>spotify:track:0d28khcov6AiegSCpG5TuT</td>\n",
       "      <td>0.818</td>\n",
       "      <td>0.705</td>\n",
       "      <td>6.0</td>\n",
       "      <td>-6.679</td>\n",
       "      <td>...</td>\n",
       "      <td>https://www.youtube.com/watch?v=HyHNuVaZJ-k</td>\n",
       "      <td>Gorillaz - Feel Good Inc. (Official Video)</td>\n",
       "      <td>Gorillaz</td>\n",
       "      <td>693555221.0</td>\n",
       "      <td>6220896.0</td>\n",
       "      <td>169907.0</td>\n",
       "      <td>Official HD Video for Gorillaz' fantastic trac...</td>\n",
       "      <td>True</td>\n",
       "      <td>True</td>\n",
       "      <td>1.040235e+09</td>\n",
       "    </tr>\n",
       "    <tr>\n",
       "      <th>1</th>\n",
       "      <td>Gorillaz</td>\n",
       "      <td>https://open.spotify.com/artist/3AA28KZvwAUcZu...</td>\n",
       "      <td>Rhinestone Eyes</td>\n",
       "      <td>Plastic Beach</td>\n",
       "      <td>album</td>\n",
       "      <td>spotify:track:1foMv2HQwfQ2vntFf9HFeG</td>\n",
       "      <td>0.676</td>\n",
       "      <td>0.703</td>\n",
       "      <td>8.0</td>\n",
       "      <td>-5.815</td>\n",
       "      <td>...</td>\n",
       "      <td>https://www.youtube.com/watch?v=yYDmaexVHic</td>\n",
       "      <td>Gorillaz - Rhinestone Eyes [Storyboard Film] (...</td>\n",
       "      <td>Gorillaz</td>\n",
       "      <td>72011645.0</td>\n",
       "      <td>1079128.0</td>\n",
       "      <td>31003.0</td>\n",
       "      <td>The official video for Gorillaz - Rhinestone E...</td>\n",
       "      <td>True</td>\n",
       "      <td>True</td>\n",
       "      <td>3.100837e+08</td>\n",
       "    </tr>\n",
       "    <tr>\n",
       "      <th>2</th>\n",
       "      <td>Gorillaz</td>\n",
       "      <td>https://open.spotify.com/artist/3AA28KZvwAUcZu...</td>\n",
       "      <td>New Gold (feat. Tame Impala and Bootie Brown)</td>\n",
       "      <td>New Gold (feat. Tame Impala and Bootie Brown)</td>\n",
       "      <td>single</td>\n",
       "      <td>spotify:track:64dLd6rVqDLtkXFYrEUHIU</td>\n",
       "      <td>0.695</td>\n",
       "      <td>0.923</td>\n",
       "      <td>1.0</td>\n",
       "      <td>-3.930</td>\n",
       "      <td>...</td>\n",
       "      <td>https://www.youtube.com/watch?v=qJa-VFwPpYA</td>\n",
       "      <td>Gorillaz - New Gold ft. Tame Impala &amp; Bootie B...</td>\n",
       "      <td>Gorillaz</td>\n",
       "      <td>8435055.0</td>\n",
       "      <td>282142.0</td>\n",
       "      <td>7399.0</td>\n",
       "      <td>Gorillaz - New Gold ft. Tame Impala &amp; Bootie B...</td>\n",
       "      <td>True</td>\n",
       "      <td>True</td>\n",
       "      <td>6.306347e+07</td>\n",
       "    </tr>\n",
       "    <tr>\n",
       "      <th>3</th>\n",
       "      <td>Gorillaz</td>\n",
       "      <td>https://open.spotify.com/artist/3AA28KZvwAUcZu...</td>\n",
       "      <td>On Melancholy Hill</td>\n",
       "      <td>Plastic Beach</td>\n",
       "      <td>album</td>\n",
       "      <td>spotify:track:0q6LuUqGLUiCPP1cbdwFs3</td>\n",
       "      <td>0.689</td>\n",
       "      <td>0.739</td>\n",
       "      <td>2.0</td>\n",
       "      <td>-5.810</td>\n",
       "      <td>...</td>\n",
       "      <td>https://www.youtube.com/watch?v=04mfKJWDSzI</td>\n",
       "      <td>Gorillaz - On Melancholy Hill (Official Video)</td>\n",
       "      <td>Gorillaz</td>\n",
       "      <td>211754952.0</td>\n",
       "      <td>1788577.0</td>\n",
       "      <td>55229.0</td>\n",
       "      <td>Follow Gorillaz online:\\nhttp://gorillaz.com \\...</td>\n",
       "      <td>True</td>\n",
       "      <td>True</td>\n",
       "      <td>4.346636e+08</td>\n",
       "    </tr>\n",
       "    <tr>\n",
       "      <th>4</th>\n",
       "      <td>Gorillaz</td>\n",
       "      <td>https://open.spotify.com/artist/3AA28KZvwAUcZu...</td>\n",
       "      <td>Clint Eastwood</td>\n",
       "      <td>Gorillaz</td>\n",
       "      <td>album</td>\n",
       "      <td>spotify:track:7yMiX7n9SBvadzox8T5jzT</td>\n",
       "      <td>0.663</td>\n",
       "      <td>0.694</td>\n",
       "      <td>10.0</td>\n",
       "      <td>-8.627</td>\n",
       "      <td>...</td>\n",
       "      <td>https://www.youtube.com/watch?v=1V_xRb0x9aw</td>\n",
       "      <td>Gorillaz - Clint Eastwood (Official Video)</td>\n",
       "      <td>Gorillaz</td>\n",
       "      <td>618480958.0</td>\n",
       "      <td>6197318.0</td>\n",
       "      <td>155930.0</td>\n",
       "      <td>The official music video for Gorillaz - Clint ...</td>\n",
       "      <td>True</td>\n",
       "      <td>True</td>\n",
       "      <td>6.172597e+08</td>\n",
       "    </tr>\n",
       "  </tbody>\n",
       "</table>\n",
       "<p>5 rows × 27 columns</p>\n",
       "</div>"
      ],
      "text/plain": [
       "     Artist                                        Url_spotify   \n",
       "0  Gorillaz  https://open.spotify.com/artist/3AA28KZvwAUcZu...  \\\n",
       "1  Gorillaz  https://open.spotify.com/artist/3AA28KZvwAUcZu...   \n",
       "2  Gorillaz  https://open.spotify.com/artist/3AA28KZvwAUcZu...   \n",
       "3  Gorillaz  https://open.spotify.com/artist/3AA28KZvwAUcZu...   \n",
       "4  Gorillaz  https://open.spotify.com/artist/3AA28KZvwAUcZu...   \n",
       "\n",
       "                                           Track   \n",
       "0                                 Feel Good Inc.  \\\n",
       "1                                Rhinestone Eyes   \n",
       "2  New Gold (feat. Tame Impala and Bootie Brown)   \n",
       "3                             On Melancholy Hill   \n",
       "4                                 Clint Eastwood   \n",
       "\n",
       "                                           Album Album_type   \n",
       "0                                     Demon Days      album  \\\n",
       "1                                  Plastic Beach      album   \n",
       "2  New Gold (feat. Tame Impala and Bootie Brown)     single   \n",
       "3                                  Plastic Beach      album   \n",
       "4                                       Gorillaz      album   \n",
       "\n",
       "                                    Uri  Danceability  Energy   Key  Loudness   \n",
       "0  spotify:track:0d28khcov6AiegSCpG5TuT         0.818   0.705   6.0    -6.679  \\\n",
       "1  spotify:track:1foMv2HQwfQ2vntFf9HFeG         0.676   0.703   8.0    -5.815   \n",
       "2  spotify:track:64dLd6rVqDLtkXFYrEUHIU         0.695   0.923   1.0    -3.930   \n",
       "3  spotify:track:0q6LuUqGLUiCPP1cbdwFs3         0.689   0.739   2.0    -5.810   \n",
       "4  spotify:track:7yMiX7n9SBvadzox8T5jzT         0.663   0.694  10.0    -8.627   \n",
       "\n",
       "   ...                                  Url_youtube   \n",
       "0  ...  https://www.youtube.com/watch?v=HyHNuVaZJ-k  \\\n",
       "1  ...  https://www.youtube.com/watch?v=yYDmaexVHic   \n",
       "2  ...  https://www.youtube.com/watch?v=qJa-VFwPpYA   \n",
       "3  ...  https://www.youtube.com/watch?v=04mfKJWDSzI   \n",
       "4  ...  https://www.youtube.com/watch?v=1V_xRb0x9aw   \n",
       "\n",
       "                                               Title   Channel        Views   \n",
       "0         Gorillaz - Feel Good Inc. (Official Video)  Gorillaz  693555221.0  \\\n",
       "1  Gorillaz - Rhinestone Eyes [Storyboard Film] (...  Gorillaz   72011645.0   \n",
       "2  Gorillaz - New Gold ft. Tame Impala & Bootie B...  Gorillaz    8435055.0   \n",
       "3     Gorillaz - On Melancholy Hill (Official Video)  Gorillaz  211754952.0   \n",
       "4         Gorillaz - Clint Eastwood (Official Video)  Gorillaz  618480958.0   \n",
       "\n",
       "       Likes  Comments                                        Description   \n",
       "0  6220896.0  169907.0  Official HD Video for Gorillaz' fantastic trac...  \\\n",
       "1  1079128.0   31003.0  The official video for Gorillaz - Rhinestone E...   \n",
       "2   282142.0    7399.0  Gorillaz - New Gold ft. Tame Impala & Bootie B...   \n",
       "3  1788577.0   55229.0  Follow Gorillaz online:\\nhttp://gorillaz.com \\...   \n",
       "4  6197318.0  155930.0  The official music video for Gorillaz - Clint ...   \n",
       "\n",
       "  Licensed official_video        Stream  \n",
       "0     True           True  1.040235e+09  \n",
       "1     True           True  3.100837e+08  \n",
       "2     True           True  6.306347e+07  \n",
       "3     True           True  4.346636e+08  \n",
       "4     True           True  6.172597e+08  \n",
       "\n",
       "[5 rows x 27 columns]"
      ]
     },
     "execution_count": 199,
     "metadata": {},
     "output_type": "execute_result"
    }
   ],
   "source": [
    "# loading the data\n",
    "\n",
    "data = pd.read_csv(\"Spotify_Youtuben.csv\")\n",
    "data.head()"
   ]
  },
  {
   "cell_type": "code",
   "execution_count": 200,
   "id": "d019448c-a7c5-46de-89e8-12245b029a8d",
   "metadata": {
    "tags": []
   },
   "outputs": [],
   "source": [
    "df = data.copy()"
   ]
  },
  {
   "cell_type": "code",
   "execution_count": 201,
   "id": "88e2e849-b2be-41e1-a193-d7569c6df41e",
   "metadata": {
    "tags": []
   },
   "outputs": [
    {
     "name": "stdout",
     "output_type": "stream",
     "text": [
      "<class 'pandas.core.frame.DataFrame'>\n",
      "RangeIndex: 20723 entries, 0 to 20722\n",
      "Data columns (total 27 columns):\n",
      " #   Column            Non-Null Count  Dtype  \n",
      "---  ------            --------------  -----  \n",
      " 0   Artist            20723 non-null  object \n",
      " 1   Url_spotify       20723 non-null  object \n",
      " 2   Track             20723 non-null  object \n",
      " 3   Album             20723 non-null  object \n",
      " 4   Album_type        20723 non-null  object \n",
      " 5   Uri               20723 non-null  object \n",
      " 6   Danceability      20721 non-null  float64\n",
      " 7   Energy            20721 non-null  float64\n",
      " 8   Key               20721 non-null  float64\n",
      " 9   Loudness          20721 non-null  float64\n",
      " 10  Speechiness       20721 non-null  float64\n",
      " 11  Acousticness      20721 non-null  float64\n",
      " 12  Instrumentalness  20721 non-null  float64\n",
      " 13  Liveness          20721 non-null  float64\n",
      " 14  Valence           20721 non-null  float64\n",
      " 15  Tempo             20721 non-null  float64\n",
      " 16  Duration_ms       20721 non-null  float64\n",
      " 17  Url_youtube       20253 non-null  object \n",
      " 18  Title             20253 non-null  object \n",
      " 19  Channel           20253 non-null  object \n",
      " 20  Views             20253 non-null  float64\n",
      " 21  Likes             20182 non-null  float64\n",
      " 22  Comments          20154 non-null  float64\n",
      " 23  Description       19847 non-null  object \n",
      " 24  Licensed          20253 non-null  object \n",
      " 25  official_video    20253 non-null  object \n",
      " 26  Stream            20146 non-null  float64\n",
      "dtypes: float64(15), object(12)\n",
      "memory usage: 4.3+ MB\n"
     ]
    }
   ],
   "source": [
    "# info\n",
    "\n",
    "df.info()"
   ]
  },
  {
   "cell_type": "markdown",
   "id": "c5cb80ee-483b-493b-b248-52b11fe6422b",
   "metadata": {},
   "source": [
    "Task 1: Remove columns that are not needed in our analysis.\n",
    "Remove Url_spotify, Uri, Key, Url_youtube, Description"
   ]
  },
  {
   "cell_type": "code",
   "execution_count": 202,
   "id": "5bcc72ec-eafa-48cf-9a1f-ad0bcc7d1e13",
   "metadata": {
    "tags": []
   },
   "outputs": [],
   "source": [
    "df = df.drop(columns=[\"Url_spotify\", \"Uri\", \"Key\", \"Url_youtube\", \"Description\"])"
   ]
  },
  {
   "cell_type": "code",
   "execution_count": 203,
   "id": "74366cb9-0c1d-4e57-939f-e2c1b8f878a0",
   "metadata": {
    "tags": []
   },
   "outputs": [
    {
     "data": {
      "text/plain": [
       "Index(['Artist', 'Track', 'Album', 'Album_type', 'Danceability', 'Energy',\n",
       "       'Loudness', 'Speechiness', 'Acousticness', 'Instrumentalness',\n",
       "       'Liveness', 'Valence', 'Tempo', 'Duration_ms', 'Title', 'Channel',\n",
       "       'Views', 'Likes', 'Comments', 'Licensed', 'official_video', 'Stream'],\n",
       "      dtype='object')"
      ]
     },
     "execution_count": 203,
     "metadata": {},
     "output_type": "execute_result"
    }
   ],
   "source": [
    "df.columns"
   ]
  },
  {
   "cell_type": "markdown",
   "id": "b558cd4d-2511-4e92-844b-b5325e717675",
   "metadata": {},
   "source": [
    "Task 2: Check for the null values"
   ]
  },
  {
   "cell_type": "code",
   "execution_count": 204,
   "id": "d90d940b-2a84-4509-b15c-41a239f46e71",
   "metadata": {
    "tags": []
   },
   "outputs": [
    {
     "data": {
      "text/plain": [
       "Artist                0\n",
       "Track                 0\n",
       "Album                 0\n",
       "Album_type            0\n",
       "Danceability          2\n",
       "Energy                2\n",
       "Loudness              2\n",
       "Speechiness           2\n",
       "Acousticness          2\n",
       "Instrumentalness      2\n",
       "Liveness              2\n",
       "Valence               2\n",
       "Tempo                 2\n",
       "Duration_ms           2\n",
       "Title               470\n",
       "Channel             470\n",
       "Views               470\n",
       "Likes               541\n",
       "Comments            569\n",
       "Licensed            470\n",
       "official_video      470\n",
       "Stream              577\n",
       "dtype: int64"
      ]
     },
     "execution_count": 204,
     "metadata": {},
     "output_type": "execute_result"
    }
   ],
   "source": [
    "df.isna().sum()"
   ]
  },
  {
   "cell_type": "markdown",
   "id": "6f372285-1d7d-42f3-a924-56d4ead51fb3",
   "metadata": {},
   "source": [
    "Task 3: Handle the null values replace int value with 0 and other values with NA"
   ]
  },
  {
   "cell_type": "code",
   "execution_count": 205,
   "id": "97fc4300-555a-4f1f-b41b-ce1ba03e2175",
   "metadata": {
    "tags": []
   },
   "outputs": [],
   "source": [
    "obj = [i for i in df.select_dtypes(include=\"object\")]\n",
    "int_col = [i for i in df.select_dtypes(include=[\"int\", \"float64\"])]\n",
    "\n",
    "df[int_col] = df[int_col].fillna(0)\n",
    "df[obj] = df[obj].fillna(\"NA\")"
   ]
  },
  {
   "cell_type": "markdown",
   "id": "201509ba-7c20-425d-8f19-0c2865fb1c8e",
   "metadata": {},
   "source": [
    "\n",
    "Task 4: CHECK FOR DUPLICATES AND REMOVE THEM KEEPING THE FIRST VALUE"
   ]
  },
  {
   "cell_type": "code",
   "execution_count": 206,
   "id": "d415afd1-6935-439d-ac9c-5da40ee73f55",
   "metadata": {
    "tags": []
   },
   "outputs": [
    {
     "data": {
      "text/plain": [
       "5"
      ]
     },
     "execution_count": 206,
     "metadata": {},
     "output_type": "execute_result"
    }
   ],
   "source": [
    "df.duplicated().sum()"
   ]
  },
  {
   "cell_type": "code",
   "execution_count": 207,
   "id": "ba456c7a-560e-41a3-a453-15d7e4651c95",
   "metadata": {
    "tags": []
   },
   "outputs": [],
   "source": [
    "df = df.drop_duplicates(keep=\"first\")"
   ]
  },
  {
   "cell_type": "code",
   "execution_count": 208,
   "id": "d527f0a7-7fb8-41c5-9f38-0a5f6a74d6ea",
   "metadata": {
    "tags": []
   },
   "outputs": [
    {
     "data": {
      "text/plain": [
       "0"
      ]
     },
     "execution_count": 208,
     "metadata": {},
     "output_type": "execute_result"
    }
   ],
   "source": [
    "df.duplicated().sum()"
   ]
  },
  {
   "cell_type": "markdown",
   "id": "8afa3e3f-6012-4901-95d7-f7016911f4e6",
   "metadata": {},
   "source": [
    "Task 5: CONVERT millisecond duration to minute for a better understanding"
   ]
  },
  {
   "cell_type": "code",
   "execution_count": 209,
   "id": "9d82ce76-82af-4e06-a65f-fd9a1e907486",
   "metadata": {
    "tags": []
   },
   "outputs": [
    {
     "data": {
      "text/plain": [
       "3.34"
      ]
     },
     "execution_count": 209,
     "metadata": {},
     "output_type": "execute_result"
    }
   ],
   "source": [
    "(df[\"Duration_ms\"][1] / 60000).round(2)"
   ]
  },
  {
   "cell_type": "code",
   "execution_count": 210,
   "id": "377d68c3-def2-49d9-817e-368e5f075895",
   "metadata": {
    "tags": []
   },
   "outputs": [],
   "source": [
    "df[\"Duration_ms\"] = df[\"Duration_ms\"].apply(lambda x: x / 60000)"
   ]
  },
  {
   "cell_type": "markdown",
   "id": "69759a5e-a30c-4380-8a7d-a2cc1c3ba30c",
   "metadata": {},
   "source": [
    "Task 6: Rename the modified column to Duration_min"
   ]
  },
  {
   "cell_type": "code",
   "execution_count": 211,
   "id": "fcc045f5-db40-48e9-bc08-3d8e0bbbc8fb",
   "metadata": {
    "tags": []
   },
   "outputs": [],
   "source": [
    "df = df.rename(columns={\"Duration_ms\": \"Duration_min\"})"
   ]
  },
  {
   "cell_type": "code",
   "execution_count": 212,
   "id": "f4ccc36f-f38e-4547-9196-e538887c544a",
   "metadata": {
    "tags": []
   },
   "outputs": [
    {
     "data": {
      "text/plain": [
       "77.9343"
      ]
     },
     "execution_count": 212,
     "metadata": {},
     "output_type": "execute_result"
    }
   ],
   "source": [
    "df[\"Duration_min\"].max()"
   ]
  },
  {
   "cell_type": "code",
   "execution_count": 213,
   "id": "42be8d03-57f8-453a-8c9b-601f99c5d53c",
   "metadata": {
    "tags": []
   },
   "outputs": [
    {
     "data": {
      "text/plain": [
       "0.0"
      ]
     },
     "execution_count": 213,
     "metadata": {},
     "output_type": "execute_result"
    }
   ],
   "source": [
    "df[\"Duration_min\"].min()"
   ]
  },
  {
   "cell_type": "markdown",
   "id": "907c92d1-284a-4fa9-be68-a22c5d0ef103",
   "metadata": {},
   "source": [
    "Remove irrelevant 'Track' name that starts with ?"
   ]
  },
  {
   "cell_type": "code",
   "execution_count": 214,
   "id": "3c128dec-f0db-496f-aaf5-08a133114eda",
   "metadata": {
    "tags": []
   },
   "outputs": [],
   "source": [
    "idx = df[df[\"Track\"].str.startswith(\"?\")].index.to_list()\n",
    "df = df.drop(idx)"
   ]
  },
  {
   "cell_type": "markdown",
   "id": "72f9fa1c-19c2-4ca9-82e5-180dd909ee63",
   "metadata": {
    "tags": []
   },
   "source": [
    "Task 8 : Calculate the Energy to Liveness ratio for each track and store it in columns 'EnergyLiveness'"
   ]
  },
  {
   "cell_type": "code",
   "execution_count": 215,
   "id": "bc37541a-4781-48fb-83bd-bfbac0d6307d",
   "metadata": {
    "tags": []
   },
   "outputs": [
    {
     "data": {
      "text/plain": [
       "Energy      0.705\n",
       "Liveness    0.613\n",
       "Name: 0, dtype: object"
      ]
     },
     "execution_count": 215,
     "metadata": {},
     "output_type": "execute_result"
    }
   ],
   "source": [
    "df.loc[0, [\"Energy\", \"Liveness\"]]"
   ]
  },
  {
   "cell_type": "code",
   "execution_count": 216,
   "id": "9e52f101-cf58-441b-a236-1517167459ee",
   "metadata": {
    "tags": []
   },
   "outputs": [],
   "source": [
    "df[\"EnergyLiveness\"] = df[\"Energy\"] / df[\"Liveness\"]"
   ]
  },
  {
   "cell_type": "markdown",
   "id": "cae733ca-1466-4e8c-b683-8e8c1593ebc8",
   "metadata": {
    "tags": []
   },
   "source": [
    "#Task 9: change the datatype of 'views' to float for further use"
   ]
  },
  {
   "cell_type": "code",
   "execution_count": 217,
   "id": "0f8724b3-7aa7-41f3-a774-8282f765e797",
   "metadata": {
    "tags": []
   },
   "outputs": [],
   "source": [
    "df[\"Views\"] = df[\"Views\"].astype(\"float\")"
   ]
  },
  {
   "cell_type": "markdown",
   "id": "4186c86d-913e-431c-85a0-6a4079b416fc",
   "metadata": {},
   "source": [
    "Task 10: compare the views and stream columns to infer\n",
    "that the song track was more played on which platform, youtube or Spotify.\n",
    "Create a column named most_playedon which will have two values.\n",
    "Spotify and Youtube,If a song track is most played on youtube then\n",
    "the most_played on column will have youtube as the value for that particular song"
   ]
  },
  {
   "cell_type": "code",
   "execution_count": 218,
   "id": "097d9af7-7591-43ae-ad86-7c9b6a04f454",
   "metadata": {
    "tags": []
   },
   "outputs": [],
   "source": [
    "df[\"most_playedon\"] = np.where(df.Views >= df.Stream, \"youtube\", \"Spotify\")"
   ]
  },
  {
   "cell_type": "code",
   "execution_count": 219,
   "id": "859d241e-da20-4827-8b76-fb62d787a616",
   "metadata": {
    "tags": []
   },
   "outputs": [
    {
     "data": {
      "text/plain": [
       "most_playedon\n",
       "Spotify    15694\n",
       "youtube     4900\n",
       "Name: count, dtype: int64"
      ]
     },
     "execution_count": 219,
     "metadata": {},
     "output_type": "execute_result"
    }
   ],
   "source": [
    "df.most_playedon.value_counts()"
   ]
  },
  {
   "cell_type": "code",
   "execution_count": 221,
   "id": "a7d62b22-639b-4cbc-8c16-4140f0256cbf",
   "metadata": {
    "tags": []
   },
   "outputs": [],
   "source": [
    "df.to_csv(\"cleaned_dataset.csv\", encoding=\"utf-8\", index=False)"
   ]
  },
  {
   "cell_type": "code",
   "execution_count": null,
   "id": "3b6c97c8-3e73-4d72-8b36-ad9f069db45e",
   "metadata": {},
   "outputs": [],
   "source": []
  }
 ],
 "metadata": {
  "kernelspec": {
   "display_name": "Python 3 (ipykernel)",
   "language": "python",
   "name": "python3"
  },
  "language_info": {
   "codemirror_mode": {
    "name": "ipython",
    "version": 3
   },
   "file_extension": ".py",
   "mimetype": "text/x-python",
   "name": "python",
   "nbconvert_exporter": "python",
   "pygments_lexer": "ipython3",
   "version": "3.11.0"
  }
 },
 "nbformat": 4,
 "nbformat_minor": 5
}
